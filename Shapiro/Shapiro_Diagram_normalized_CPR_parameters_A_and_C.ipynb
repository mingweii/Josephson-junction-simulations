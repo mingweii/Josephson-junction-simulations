{
 "cells": [
  {
   "cell_type": "markdown",
   "metadata": {},
   "source": [
    "# Shapiro Diagram with normalized parameters\n",
    "### Cythonized, RF current in linear scale"
   ]
  },
  {
   "cell_type": "code",
   "execution_count": 1,
   "metadata": {},
   "outputs": [],
   "source": [
    "import numpy as np\n",
    "import matplotlib.pyplot as plt\n",
    "from datetime import *\n",
    "from scipy.io import savemat\n",
    "from scipy.integrate import odeint\n",
    "%matplotlib inline"
   ]
  },
  {
   "cell_type": "code",
   "execution_count": 2,
   "metadata": {},
   "outputs": [],
   "source": [
    "%load_ext Cython"
   ]
  },
  {
   "cell_type": "markdown",
   "metadata": {},
   "source": [
    "### Resistively Shunted Model:\n",
    "\n",
    "$\\frac{d\\phi}{dt}=\\frac{2eR_N}{\\hbar}[I_{DC}+I_{RF}\\sin(2\\pi f_{RF}t)-I_C\\sin\\phi]$\n",
    "\n",
    "Solving $\\phi(t)$, then you can get the voltage difference between the superconducting leads:\n",
    "\n",
    "$V=\\frac{\\hbar}{2e}\\langle\\frac{d\\phi}{dt}\\rangle$\n",
    "\n",
    "After Normalizing:\n",
    "$I_{DC}\\rightarrow I_{DC}/I_C$,\n",
    "\n",
    "$I_{RF} \\rightarrow I_{RF}/I_C$,\n",
    "\n",
    "$ V \\rightarrow I_CR_N$,\n",
    "\n",
    "$f_0=2eI_CR_N/h$,\n",
    "\n",
    "$f_{RF} \\rightarrow f_{RF}/f_0$,\n",
    "\n",
    "$2\\pi f_0 t \\rightarrow t$,\n",
    "\n",
    "the RSJ model simply becomes:\n",
    "\n",
    "$\\frac{d\\phi}{dt}=[I_{DC}+I_{RF}\\sin(2\\pi f_{RF}t)-\\sin\\phi]$\n",
    "\n",
    "$V=\\frac{\\hbar}{2e}\\langle\\frac{d\\phi}{dt}\\rangle \\rightarrow V=\\langle\\frac{d\\phi}{dt}\\rangle$\n",
    "\n",
    "### Cython codes here is to speed up the simulation because python is slower than C:"
   ]
  },
  {
   "cell_type": "code",
   "execution_count": 3,
   "metadata": {},
   "outputs": [],
   "source": [
    "%%cython --pgo\n",
    "\n",
    "#To use GNU compiler gcc-10 specified in .bash_profile\n",
    "\n",
    "cimport numpy as np\n",
    "from libc.math cimport sin, pi\n",
    "import numpy as np\n",
    "\n",
    "### cdef is faster but can only be used for cython in this cell\n",
    "#cpdef can be used for python outside this cell\n",
    "\n",
    "cdef double CPR(double A, double G, double C):\n",
    "    '''\n",
    "        Current-phase relation\n",
    "    '''\n",
    "    return sin(G)+ A*sin(2*G +C*np.pi) # Normally sinusoidal\n",
    "\n",
    "cdef double i(double t,double i_dc,double i_ac,double f_rf):\n",
    "    '''\n",
    "        Current applied to the junction\n",
    "    '''\n",
    "    return i_dc + i_ac * sin(2*pi*f_rf*t)\n",
    "    \n",
    "cpdef dGdt(G,double t,double i_dc,double i_ac,double f_rf,double A, double C):\n",
    "    '''\n",
    "        RSJ model\n",
    "    '''\n",
    "    der = -CPR(A,G,C) + i(t,i_dc,i_ac,f_rf)\n",
    "    return der "
   ]
  },
  {
   "cell_type": "code",
   "execution_count": 6,
   "metadata": {},
   "outputs": [
    {
     "name": "stdout",
     "output_type": "stream",
     "text": [
      "DC array size: 101\n",
      "RF array size: 101\n",
      "Driving RF frequency f_rf = 1.1\n"
     ]
    }
   ],
   "source": [
    "#f_array = np.array([15e9])#,13e9,7e9,5e9])\n",
    "#C_array = np.array([0.16])*np.pi\n",
    "\n",
    "f_rf=1.1\n",
    "\n",
    "A=0.909\n",
    "C=0.16 # as a unit of pi\n",
    "IDC_step=0.1\n",
    "IDC_array=np.arange(-5,5+IDC_step/2,IDC_step)\n",
    "IRF_step=0.1\n",
    "IRF_array=np.arange(0,10+IRF_step/2,IRF_step)\n",
    "\n",
    "print(\"DC array size: \"+str(len(IDC_array)))\n",
    "print(\"RF array size: \"+str(len(IRF_array)))\n",
    "\n",
    "print(\"Driving RF frequency f_rf = \"+str(f_rf))"
   ]
  },
  {
   "cell_type": "code",
   "execution_count": null,
   "metadata": {
    "scrolled": true
   },
   "outputs": [
    {
     "name": "stdout",
     "output_type": "stream",
     "text": [
      "f= 1.1*f0), A= 0.909_C= 0.16pi_normalized\n",
      "2020-09-24 17:40:49.578067\n",
      "RF power now: 87 of 101 ,2020-09-24 17:46:30.307856\r"
     ]
    }
   ],
   "source": [
    "_name_file = \"f_\"+str(f_rf)+\"_A\"+str(np.round(A,3))+\"_C\"+str(np.round(C,2))+\"pi_normalized\"\n",
    "_name_title = \"f= \"+str(f_rf)+\"*f0), A= \"+str(np.round(A,3))+\"_C= \"+str(np.round(C,2))+\"pi_normalized\"\n",
    "print(_name_title)\n",
    "T1=datetime.now()\n",
    "print (T1)\n",
    "V=np.empty([len(IRF_array),len(IDC_array)])\n",
    "for i in range(0,len(IRF_array)):\n",
    "    print(\"RF power now: \"+str(i)+\" of \"+str(len(IRF_array))+\" ,\"+str(datetime.now()),end=\"\\r\")\n",
    "    for j in range(0,len(IDC_array)):\n",
    "        t=np.arange(0,300.01,0.01)/f_rf\n",
    "        G_array= odeint(dGdt,0,t,args=(IDC_array[j],IRF_array[i],f_rf,A,C))\n",
    "        V[i,j]=np.mean(np.gradient(G_array[:-1501,0]))/(0.01/f_rf)\n",
    "\n",
    "DVDI=np.gradient(V,IDC_step,axis=1)\n",
    "\n",
    "\n",
    "print (\"It takes \" + str(datetime.now()-T1))                \n",
    "        \n",
    "plt.figure()\n",
    "plt.pcolormesh(IDC_array, IRF_array, DVDI, cmap = 'inferno', vmin = 0,linewidth=0,rasterized=True,shading=\"auto\")\n",
    "plt.xlabel(\"DC Current($I/I_C$)\")\n",
    "plt.ylabel(\"RF Current ($I_RF/I_C$)\")\n",
    "plt.colorbar(label = \"DV/DI\")\n",
    "plt.title(_name_title)\n",
    "#plt.savefig(\"DVDI_\"+_name_file+\".pdf\")\n",
    "plt.show()\n",
    "                \n",
    "plt.figure()\n",
    "plt.pcolormesh(IDC_array, IRF_array, V , cmap = 'coolwarm',linewidth=0,rasterized=True,shading=\"auto\")\n",
    "plt.xlabel(\"DC Current($I/I_C$)\")\n",
    "plt.ylabel(\"RF Current ($I_RF/I_C$)\")\n",
    "plt.colorbar(label = \"$V/I_CR_N$\")\n",
    "plt.title(_name_title)\n",
    "#plt.savefig(\"V_\"+_name_file+\".pdf\")\n",
    "plt.show()\n",
    "\n",
    "plt.figure()\n",
    "plt.plot(IDC_array,V[1,:])#/(np.pi*hbar*f/Qe))\n",
    "plt.show()\n",
    "plt.figure()\n",
    "plt.plot(IDC_array,DVDI[1,:])\n",
    "plt.show()\n",
    "#savemat(\"data\"+_name_file+'.mat',mdict={'IDC':IDC_array,'IRF':IRF_array,'PRF':PRF_array,'A':A, 'w_rf':w_rf,'C':C,'Vmatrix':V,'DVDI':DVDI})\n",
    "#print('file saved')"
   ]
  },
  {
   "cell_type": "code",
   "execution_count": null,
   "metadata": {},
   "outputs": [],
   "source": []
  }
 ],
 "metadata": {
  "kernelspec": {
   "display_name": "Python 3",
   "language": "python",
   "name": "python3"
  },
  "language_info": {
   "codemirror_mode": {
    "name": "ipython",
    "version": 3
   },
   "file_extension": ".py",
   "mimetype": "text/x-python",
   "name": "python",
   "nbconvert_exporter": "python",
   "pygments_lexer": "ipython3",
   "version": "3.7.8"
  }
 },
 "nbformat": 4,
 "nbformat_minor": 2
}
