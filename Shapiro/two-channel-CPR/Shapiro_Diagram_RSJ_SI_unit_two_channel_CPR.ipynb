{
 "cells": [
  {
   "cell_type": "markdown",
   "metadata": {},
   "source": [
    "# Shapiro Diagram with RSJ model -- two channel CPR\n",
    "\n",
    "## $I(\\phi)=\\sin(\\phi)+\\eta \\sin(2\\phi)+A\\{\\sin(\\phi+C)+\\eta\\sin[2(\\phi+C)]\\}$\n",
    "\n",
    "### in Si Unit\n",
    "### Cythonized\n",
    "### power in dBm with a guess attenuation"
   ]
  },
  {
   "cell_type": "code",
   "execution_count": 1,
   "metadata": {},
   "outputs": [],
   "source": [
    "import numpy as np\n",
    "import matplotlib.pyplot as plt\n",
    "from datetime import *\n",
    "from scipy.io import savemat\n",
    "from scipy.integrate import odeint\n",
    "%matplotlib inline"
   ]
  },
  {
   "cell_type": "code",
   "execution_count": 2,
   "metadata": {},
   "outputs": [],
   "source": [
    "%load_ext Cython"
   ]
  },
  {
   "cell_type": "code",
   "execution_count": 4,
   "metadata": {},
   "outputs": [],
   "source": [
    "%%cython --pgo\n",
    "\n",
    "#Use GNU compiler gcc-10 specified in .bash_profile\n",
    "cimport numpy as np\n",
    "from libc.math cimport sin, pi\n",
    "import numpy as np\n",
    "\n",
    "\n",
    "cdef double Qe=1.608e-19\n",
    "cdef double hbar=6.626e-34/2/pi\n",
    "\n",
    "\n",
    "### cdef is faster but can only be used for cython in this cell\n",
    "#cpdef can be used for python outside this cell\n",
    "\n",
    "cdef double CPR(double A, double eta, double G, double C):\n",
    "    '''\n",
    "        Current-phase relation for the junction\n",
    "    '''\n",
    "    return sin(G) + eta*sin(2*G)+ A*sin(G +C*pi)+A*eta*sin(2*G+2*C*pi)\n",
    "\n",
    "cdef double i(double t,double i_dc,double i_ac,double f_rf):\n",
    "    '''\n",
    "        Applied current\n",
    "    '''\n",
    "    return i_dc + i_ac * sin(2*pi*f_rf*t)\n",
    "    \n",
    "cpdef double dGdt(G,double t,double i_dc,double i_ac,double f_rf,double A,double eta, double C, double Ic, double Rn):\n",
    "    '''\n",
    "        Define RSJ model\n",
    "    '''\n",
    "    der = 2*Qe*Rn/hbar*(-Ic*CPR(A,eta,G,C) + i(t,i_dc,i_ac,f_rf))\n",
    "    return der "
   ]
  },
  {
   "cell_type": "code",
   "execution_count": 5,
   "metadata": {},
   "outputs": [
    {
     "name": "stdout",
     "output_type": "stream",
     "text": [
      "DC array size: 201\n",
      "RF array size: 2\n",
      "Charecteristic frequency fc = 12.619378207063084 GHz\n",
      "Driving RF frequency f_rf = [18.92906731] GHz\n",
      "C = [0.16]*pi\n"
     ]
    }
   ],
   "source": [
    "Qe=1.608e-19\n",
    "h=6.626e-34\n",
    "hbar=6.626e-34/2/np.pi\n",
    "Ic=2e-6\n",
    "Rn=13.0\n",
    "w0=2*Qe*Ic*Rn/hbar\n",
    "f0=w0/2/np.pi\n",
    "\n",
    "attenuation =-40 # A guess value\n",
    "\n",
    "\n",
    "f_array=np.array([1.5])#,1.1,0.9,0.6,0.5])\n",
    "A=0.909\n",
    "\n",
    "C_array=[0.16] # as a unit of pi\n",
    "IDC_step=0.05\n",
    "IDC_array=np.arange(-5,5+IDC_step/2,IDC_step)*Ic\n",
    "PRF_step=1\n",
    "PRF_array=np.arange(-25+attenuation,-24+attenuation+PRF_step/2,PRF_step)\n",
    "IRF_array = np.sqrt(10**(PRF_array/10)/Rn/1000)/Ic\n",
    "print(\"DC array size: \"+str(len(IDC_array)))\n",
    "print(\"RF array size: \"+str(len(PRF_array)))\n",
    "print(\"Charecteristic frequency fc = \"+str(f0/1e9)+\" GHz\")\n",
    "print(\"Driving RF frequency f_rf = \"+str(f_array*f0/1e9)+\" GHz\")\n",
    "print(\"C = \"+str(C_array)+\"*pi\")"
   ]
  },
  {
   "cell_type": "markdown",
   "metadata": {},
   "source": [
    "### Test at one RF current"
   ]
  },
  {
   "cell_type": "code",
   "execution_count": null,
   "metadata": {},
   "outputs": [],
   "source": [
    "t=np.arange(0,300.01,0.01)/f0/f_array[0]\n",
    "V=np.empty([len(IDC_array)])\n",
    "for i in range(0,len(IDC_array)):\n",
    "    G_array= odeint(dGdt,0,t,args=(IDC_array[i],2e-6,f_array[0]*f0,A,C_array[0],Ic,Rn))\n",
    "    V[i]=np.mean(np.gradient(G_array[:-1501,0]))/(0.01/f0/f_array[0])*hbar/2/Qe\n",
    "\n",
    "\n",
    "JV=h*f_array[0]*f0/2/Qe"
   ]
  },
  {
   "cell_type": "code",
   "execution_count": null,
   "metadata": {},
   "outputs": [],
   "source": [
    "plt.figure()\n",
    "plt.plot(IDC_array/Ic,V/JV)\n",
    "plt.grid()"
   ]
  },
  {
   "cell_type": "markdown",
   "metadata": {},
   "source": [
    "### Plot Shapiro diagram with loops of f and C"
   ]
  },
  {
   "cell_type": "code",
   "execution_count": null,
   "metadata": {},
   "outputs": [],
   "source": [
    "for f in f_array:\n",
    "    for C in C_array:\n",
    "        _name_file = \"f_\" +str(f)+\"f0_A\"+str(np.round(A,3))+\"_C\"+str(np.round(C,2))+\"pi\"\n",
    "        _name_title = \"f= \" +str(f)+\"*f0, A= \"+str(np.round(A,3))+\", C= \"+str(np.round(C,2))+\"pi\"\n",
    "        print(_name_title)\n",
    "        T1=datetime.now()\n",
    "        print (T1)\n",
    "        WB_Freq=np.empty([len(IRF_array),len(IDC_array)])\n",
    "        for i in range(0,len(IRF_array)):\n",
    "            print(\"RF power now: \"+str(i)+\" of \"+str(len(IRF_array))+\" ,\"+str(datetime.now()),end=\"\\r\")\n",
    "            for j in range(0,len(IDC_array)):\n",
    "                t=np.arange(0,300.01,0.01)/f/f0\n",
    "                G_array= odeint(dGdt,0,t,args=(IDC_array[j],IRF_array[i],f*f0,A,C,Ic,Rn))\n",
    "                WB_Freq[i,j]=np.mean(np.gradient(G_array[:-1501,0]))/(0.01/f0/f)*hbar/2/Qe # in the unit of V\n",
    "\n",
    "        DVDI=np.gradient(WB_Freq,IDC_step*Ic,axis=1)\n",
    "\n",
    "        print (\"It takes \" + str(datetime.now()-T1))                \n",
    "        \n",
    "        plt.figure()\n",
    "        plt.pcolormesh(IDC_array, PRF_array, DVDI, cmap = 'inferno', vmin = 0,linewidth=0,rasterized=True,shading=\"auto\")\n",
    "        plt.xlabel(\"DC Current(I/Ic)\")\n",
    "        plt.ylabel(\"RF power (a.u.)\")\n",
    "        plt.colorbar(label = \"DV/DI\")\n",
    "        plt.title(_name_title)\n",
    "        #plt.savefig(\"DVDI_\"+_name_file+\".pdf\")\n",
    "        plt.show()\n",
    "        \n",
    "        JV=h*f*f0/2/Qe\n",
    "\n",
    "        plt.figure()\n",
    "        plt.pcolormesh(IDC_array, PRF_array, WB_Freq/JV, cmap = 'coolwarm',linewidth=0,rasterized=True,shading=\"auto\")#/(np.pi*hbar*f/Qe)\n",
    "        plt.xlabel(\"DC Current(I/Ic)\")\n",
    "        plt.ylabel(\"RF power(dBm)\")\n",
    "        plt.colorbar(label = \"$V/(hf/2e)$\")\n",
    "        plt.title(_name_title)\n",
    "        #plt.savefig(\"V_\"+_name_file+\".pdf\")\n",
    "        plt.show()\n",
    "\n",
    "        plt.figure()\n",
    "        plt.plot(IDC_array,WB_Freq[1,:]/JV)#/(np.pi*hbar*f/Qe))\n",
    "        plt.show()\n",
    "        plt.figure()\n",
    "        plt.plot(IDC_array,DVDI[1,:])\n",
    "        plt.show()\n",
    "        #savemat(\"data\"+_name_file+'.mat',mdict={'IDC':IDC_array,'IRF':IRF_array,'PRF':PRF_array,'A':A, 'freq':f_rf,'C':C,'Vmatrix':WB_Freq/w_rf,'DVDI':DVDI})\n",
    "        print('file saved')"
   ]
  },
  {
   "cell_type": "code",
   "execution_count": null,
   "metadata": {},
   "outputs": [],
   "source": []
  }
 ],
 "metadata": {
  "kernelspec": {
   "display_name": "Python 3",
   "language": "python",
   "name": "python3"
  },
  "language_info": {
   "codemirror_mode": {
    "name": "ipython",
    "version": 3
   },
   "file_extension": ".py",
   "mimetype": "text/x-python",
   "name": "python",
   "nbconvert_exporter": "python",
   "pygments_lexer": "ipython3",
   "version": "3.7.8"
  }
 },
 "nbformat": 4,
 "nbformat_minor": 2
}
