{
 "cells": [
  {
   "cell_type": "markdown",
   "metadata": {},
   "source": [
    "# Shapiro Diagram with normalized parameters\n",
    "### Cythonized, RF current in linear scale\n",
    "\n",
    "## CPR of $I(\\phi)=[\\sin(\\phi)+\\eta\\sin(2\\phi)]+A(\\sin(\\phi+C)+\\eta\\sin[2(\\phi+C)])$"
   ]
  },
  {
   "cell_type": "code",
   "execution_count": 1,
   "metadata": {},
   "outputs": [],
   "source": [
    "import numpy as np\n",
    "import matplotlib.pyplot as plt\n",
    "from datetime import *\n",
    "from scipy.io import savemat\n",
    "from scipy.integrate import odeint\n",
    "%matplotlib inline"
   ]
  },
  {
   "cell_type": "code",
   "execution_count": 2,
   "metadata": {},
   "outputs": [],
   "source": [
    "%load_ext Cython"
   ]
  },
  {
   "cell_type": "markdown",
   "metadata": {},
   "source": [
    "### Resistively Shunted Model:\n",
    "\n",
    "$\\frac{d\\phi}{dt}=\\frac{2eR_N}{\\hbar}[I_{DC}+I_{RF}\\sin(2\\pi f_{RF}t)-I_C\\sin\\phi]$\n",
    "\n",
    "Solving $\\phi(t)$, then you can get the voltage difference between the superconducting leads:\n",
    "\n",
    "$V=\\frac{\\hbar}{2e}\\langle\\frac{d\\phi}{dt}\\rangle$\n",
    "\n",
    "After Normalizing:\n",
    "$I_{DC}\\leftrightarrow \\tilde{I_{DC}}=I_{DC}/I_C$,\n",
    "\n",
    "$I_{RF} \\leftrightarrow \\tilde{I_{RF}}=I_{RF}/I_C$,\n",
    "\n",
    "$ V \\leftrightarrow \\tilde{V}=\\frac{V}{I_CR_N}$,\n",
    "\n",
    "$ R=\\frac{dV}{dI} \\leftrightarrow \\tilde{R}=\\frac{R}{R_N}$,\n",
    "\n",
    "\n",
    "$\\because f_0=2eI_CR_N/h$,\n",
    "\n",
    "$f_{RF} \\leftrightarrow \\tilde{f_{RF}}=f_{RF}/f_0$,\n",
    "\n",
    "$t \\leftrightarrow \\tilde{t}=f_0t$,\n",
    "\n",
    "The Josephson voltage quantized at $\\frac{V}{hf_{RF}f_0/2e}=n \\leftrightarrow \\frac{V}{f_{RF}f_0}=n$ \n",
    "\n",
    "Here, we can set $f_0=1$ or $\\frac{I_CR_N}{hf_0/2e}=1$, without loss of generality\n",
    "\n",
    "The RSJ model simply becomes (omitting $\\tilde{}$):\n",
    "\n",
    "$\\frac{d\\phi}{dt}=[I_{DC}+I_{RF}\\sin(2\\pi f_{RF}t)-\\sin\\phi]$\n",
    "\n",
    "At equilibrium, $V=\\frac{\\hbar}{2e}\\langle\\frac{d\\phi}{dt}\\rangle \\leftrightarrow \\tilde{V}=\\frac{1}{2\\pi}\\langle\\frac{d\\phi}{d\\tilde{t}}\\rangle$  would also quantized at integers in the Shapiro step regime.\n",
    "\n",
    "\n",
    "\n",
    "### Cython codes here is to speed up the simulation because python is slower than C:"
   ]
  },
  {
   "cell_type": "code",
   "execution_count": 8,
   "metadata": {},
   "outputs": [],
   "source": [
    "%%cython --pgo\n",
    "#To use GNU compiler gcc-10 specified in .bash_profile\n",
    "\n",
    "cimport numpy as np\n",
    "from libc.math cimport sin, pi\n",
    "\n",
    "### cdef is faster but can only be used for cython in this cell\n",
    "#cpdef can be used for python outside this cell\n",
    "\n",
    "cdef double CPR(double G, double A, double eta, double C):\n",
    "    '''\n",
    "        Current-phase relationship for the junction\n",
    "    '''\n",
    "    return sin(G)+eta*sin(2*G)+A*sin(G+C*pi)+A*eta*sin(2*G+2*C*pi)\n",
    "\n",
    "cpdef double dGdt(G,double t,double i_dc,double i_ac,double f_rf,double A, double eta, double C):\n",
    "    '''\n",
    "        RSJ model\n",
    "    '''\n",
    "    der =  i_dc + i_ac * sin(2*pi*f_rf*t) - CPR(A,G,eta,C)\n",
    "    return der "
   ]
  },
  {
   "cell_type": "code",
   "execution_count": 43,
   "metadata": {},
   "outputs": [],
   "source": [
    "A=0.2\n",
    "eta=0.2\n",
    "C=0.8 # as a unit of pi\n",
    "f_rf=1"
   ]
  },
  {
   "cell_type": "code",
   "execution_count": 40,
   "metadata": {},
   "outputs": [
    {
     "name": "stdout",
     "output_type": "stream",
     "text": [
      "DC array size: 101\n",
      "RF array size: 101\n"
     ]
    }
   ],
   "source": [
    "IDC_step=0.1\n",
    "IDC_array=np.linspace(-10,10,101)\n",
    "IRF_step=0.1\n",
    "IRF_array=np.linspace(0,20,101)\n",
    "\n",
    "print(\"DC array size: \"+str(len(IDC_array)))\n",
    "print(\"RF array size: \"+str(len(IRF_array)))\n",
    "\n"
   ]
  },
  {
   "cell_type": "markdown",
   "metadata": {},
   "source": [
    "### Plot CPR"
   ]
  },
  {
   "cell_type": "code",
   "execution_count": 44,
   "metadata": {},
   "outputs": [
    {
     "data": {
      "text/plain": [
       "[<matplotlib.lines.Line2D at 0x139c1a510>]"
      ]
     },
     "execution_count": 44,
     "metadata": {},
     "output_type": "execute_result"
    },
    {
     "data": {
      "image/png": "[encoded data removed]",
      "text/plain": [
       "<Figure size 432x288 with 1 Axes>"
      ]
     },
     "metadata": {
      "needs_background": "light"
     },
     "output_type": "display_data"
    }
   ],
   "source": [
    "G=np.linspace(-3,3,301)*np.pi\n",
    "def CPR(G, A, eta, C):\n",
    "    return np.sin(G)+eta*np.sin(2*G)+A*np.sin(G+C*np.pi)+A*eta*np.sin(2*G+2*C*np.pi)\n",
    "plt.figure()\n",
    "plt.plot(G,CPR(G,A,eta,C))\n"
   ]
  },
  {
   "cell_type": "markdown",
   "metadata": {},
   "source": [
    "### Test on a single RF current"
   ]
  },
  {
   "cell_type": "code",
   "execution_count": 53,
   "metadata": {},
   "outputs": [
    {
     "data": {
      "image/png": "[encoded data removed]",
      "text/plain": [
       "<Figure size 432x288 with 1 Axes>"
      ]
     },
     "metadata": {
      "needs_background": "light"
     },
     "output_type": "display_data"
    }
   ],
   "source": [
    "t=np.arange(0,300.01,0.01)/f_rf\n",
    "V=np.empty([len(IDC_array)])\n",
    "G_array=np.empty(len(t))\n",
    "for i in range(0,len(IDC_array)):\n",
    "    G_array= odeint(dGdt,0,t,args=(IDC_array[i],1,f_rf,A,eta,C))\n",
    "    V[i]=np.mean(np.gradient(G_array[-1500:,0]))/(0.01/f_rf)/(2*np.pi)\n",
    "DVDI=2*np.pi*np.gradient(V,IDC_step) #differential resistance dV/dI\n",
    "plt.plot(t,G_array)\n",
    "JV=f_rf"
   ]
  },
  {
   "cell_type": "code",
   "execution_count": 52,
   "metadata": {},
   "outputs": [
    {
     "name": "stdout",
     "output_type": "stream",
     "text": [
      "1500\n"
     ]
    }
   ],
   "source": [
    "print(len(G_array[-1500:,0]))"
   ]
  },
  {
   "cell_type": "code",
   "execution_count": 54,
   "metadata": {},
   "outputs": [
    {
     "data": {
      "text/plain": [
       "(0.0, 3.0)"
      ]
     },
     "execution_count": 54,
     "metadata": {},
     "output_type": "execute_result"
    },
    {
     "data": {
      "image/png": "[encoded data removed]",
      "text/plain": [
       "<Figure size 432x288 with 1 Axes>"
      ]
     },
     "metadata": {
      "needs_background": "light"
     },
     "output_type": "display_data"
    },
    {
     "data": {
      "image/png": "[encoded data removed]",
      "text/plain": [
       "<Figure size 432x288 with 1 Axes>"
      ]
     },
     "metadata": {
      "needs_background": "light"
     },
     "output_type": "display_data"
    }
   ],
   "source": [
    "plt.figure()\n",
    "plt.plot(IDC_array,V/JV)\n",
    "plt.grid()\n",
    "plt.figure()\n",
    "plt.plot(IDC_array,DVDI)\n",
    "plt.ylim([0,3])"
   ]
  },
  {
   "cell_type": "code",
   "execution_count": null,
   "metadata": {
    "scrolled": true
   },
   "outputs": [
    {
     "name": "stdout",
     "output_type": "stream",
     "text": [
      "f= 1.1*f0), A= 0.909_C= 0.16pi_normalized\n",
      "2020-09-24 17:40:49.578067\n",
      "RF power now: 87 of 101 ,2020-09-24 17:46:30.307856\r"
     ]
    }
   ],
   "source": [
    "_name_file = \"f_\"+str(f_rf)+\"_A\"+str(np.round(A,3))+\"_eta\"+str(np.round(eta,3))+\"_C\"+str(np.round(C,2))+\"pi_norm\"\n",
    "_name_title = \"f= \"+str(f_rf)+\"*f0), A= \"+str(np.round(A,3))+\", eta= \"+str(np.round(eta,3))+\",C= \"+str(np.round(C,2))+\"pi_norm\"\n",
    "print(_name_title)\n",
    "T1=datetime.now()\n",
    "print (T1)\n",
    "V=np.empty([len(IRF_array),len(IDC_array)])\n",
    "for i in range(0,len(IRF_array)):\n",
    "    print(\"RF power now: \"+str(i)+\" of \"+str(len(IRF_array))+\" ,\"+str(datetime.now()),end=\"\\r\")\n",
    "    for j in range(0,len(IDC_array)):\n",
    "        t=np.arange(0,300.01,0.01)/f_rf\n",
    "        G_array= odeint(dGdt,0,t,args=(IDC_array[j],IRF_array[i],f_rf,A,C))\n",
    "        V[i,j]=np.mean(np.gradient(G_array[:-1501,0]))/(0.01/f_rf)/(2*np.pi)\n",
    "\n",
    "DVDI=2*np.pi*np.gradient(V,IDC_step,axis=1)\n",
    "\n",
    "\n",
    "print (\"It takes \" + str(datetime.now()-T1))                \n",
    "        \n",
    "plt.figure()\n",
    "plt.pcolormesh(IDC_array, IRF_array, DVDI, cmap = 'inferno', vmin = 0,linewidth=0,rasterized=True,shading=\"auto\")\n",
    "plt.xlabel(\"DC Current($I/I_C$)\")\n",
    "plt.ylabel(\"RF Current ($I_RF/I_C$)\")\n",
    "plt.colorbar(label = \"DV/DI\")\n",
    "plt.title(_name_title)\n",
    "plt.savefig(\"DVDI_\"+_name_file+\".pdf\")\n",
    "plt.show()\n",
    "                \n",
    "plt.figure()\n",
    "plt.pcolormesh(IDC_array, IRF_array, V/f_rf , cmap = 'coolwarm',linewidth=0,rasterized=True,shading=\"auto\")\n",
    "plt.xlabel(\"DC Current($I/I_C$)\")\n",
    "plt.ylabel(\"RF Current ($I_RF/I_C$)\")\n",
    "plt.colorbar(label = \"$V/I_CR_N$\")\n",
    "plt.title(_name_title)\n",
    "plt.savefig(\"V_\"+_name_file+\".pdf\")\n",
    "plt.show()\n",
    "\n",
    "plt.figure()\n",
    "plt.plot(IDC_array,V[1,:]/f_rf)#/(np.pi*hbar*f/Qe))\n",
    "plt.show()\n",
    "plt.figure()\n",
    "plt.plot(IDC_array,DVDI[1,:])\n",
    "plt.show()\n",
    "savemat(\"data\"+_name_file+'.mat',mdict={'IDC':IDC_array,'IRF':IRF_array,'A':A, 'eta':eta, 'f_rf':f_rf,'C':C,'V':V,'DVDI':DVDI})\n",
    "print('file saved')"
   ]
  },
  {
   "cell_type": "code",
   "execution_count": null,
   "metadata": {},
   "outputs": [],
   "source": []
  }
 ],
 "metadata": {
  "kernelspec": {
   "display_name": "Python 3",
   "language": "python",
   "name": "python3"
  },
  "language_info": {
   "codemirror_mode": {
    "name": "ipython",
    "version": 3
   },
   "file_extension": ".py",
   "mimetype": "text/x-python",
   "name": "python",
   "nbconvert_exporter": "python",
   "pygments_lexer": "ipython3",
   "version": "3.7.8"
  }
 },
 "nbformat": 4,
 "nbformat_minor": 2
}
